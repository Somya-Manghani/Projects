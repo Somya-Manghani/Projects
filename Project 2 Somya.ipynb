{
 "cells": [
  {
   "cell_type": "markdown",
   "metadata": {
    "id": "UYmMpXkNw9I6"
   },
   "source": [
    "# Project: The Horizon Bank - Python Dictionaries\n",
    "\n",
    "# Last Date: 21 Aug 2023"
   ]
  },
  {
   "cell_type": "markdown",
   "metadata": {
    "id": "PaanjkTewd2U"
   },
   "source": [
    "---"
   ]
  },
  {
   "cell_type": "markdown",
   "metadata": {
    "id": "x9vfVAsbslya"
   },
   "source": [
    "### Context\n",
    "\n",
    "Decades before, most of the banks used to maintain the details of their customers in a record book or in an excel sheet in a computer. This is not so reliable as compared to today’s revolutionary growth of technology in almost all of the fields.\n",
    "\n",
    "There is also a negative side in today’s growth of technology i.e. the increasing cyber crimes all over the world.\n",
    "\n",
    "Do you know, in earlier days we need to stand in a long queue for hours in banks to deposit (a sum of money paid into a bank account) or withdraw (a sum of money withdrawn from a bank account) or to create a new bank account?\n",
    "But nowadays with the growth of technology, users can create and maintain their bank account or pay their electric bills, phone bills by sitting in their homes. All they need is a smartphone and internet.\n",
    "\n",
    "Now, a new bank called Horizon Bank decides to update their banking model from old excel sheets to the latest technology and require a sample project of a bank model. Let us help them in creating this bank application."
   ]
  },
  {
   "cell_type": "markdown",
   "metadata": {
    "id": "G9pdov_M0nzo"
   },
   "source": [
    "---"
   ]
  },
  {
   "cell_type": "markdown",
   "metadata": {
    "id": "2i36Yv3-MPY5"
   },
   "source": [
    "### Problem Statement\n",
    "\n",
    "In this project, you have to write a computer program to create an interactive bank application for the Horizon Bank. The application must have two simple functionalities:\n",
    "\n",
    "1. Allow a customer to create a new bank account with their following personal details:\n",
    "\n",
    "   - Full name\n",
    "\n",
    "   - Permanent residential address\n",
    "\n",
    "   - Personal or residential phone number\n",
    "\n",
    "   - Valid government-issued identification\n",
    "\n",
    "   - Amount to be deposited to the account\n",
    "\n",
    "2. Allow an existing customer of the bank to\n",
    "\n",
    "   - Check their bank balance\n",
    "\n",
    "   - Withdraw some amount from their account provided that the withdrawal amount is less than the available bank balance\n",
    "\n",
    "   - Deposit some amount to their account\n"
   ]
  },
  {
   "cell_type": "markdown",
   "metadata": {
    "id": "Y9JYGh67SE1-"
   },
   "source": [
    "---"
   ]
  },
  {
   "cell_type": "markdown",
   "metadata": {
    "id": "toeLx5LJpIV-"
   },
   "source": [
    "### Project Requirements\n",
    "\n",
    "1. Create an empty dictionary and store it in the `cust_data` variable. Also, create a list holding the attributes to be filled by a customer. Store the list in the `new_user_attributes` variable.\n",
    "\n",
    "2. Create a function to add a new user to the 'cust_data' dictionary. Name the function as `new_user()`.\n",
    "\n",
    "3. Create a function to get the account details of an existing user from the `cust_data` dictionary. Name the function as `existing_user()`.\n",
    "\n",
    "4. Finally, create an infinite `while` loop to run the application.\n"
   ]
  },
  {
   "cell_type": "markdown",
   "metadata": {
    "id": "5JRlGIBRqCGl"
   },
   "source": [
    "---"
   ]
  },
  {
   "cell_type": "markdown",
   "metadata": {
    "id": "UCusTfW0tcxe"
   },
   "source": [
    "#### 1. Customer Data\n",
    "\n",
    "The data of all the customers needs to be stored in a Python dictionary. Let's call it `cust_data`.\n",
    "\n",
    "The key of the `cust_data` dictionary should be an account number of a customer. Its corresponding value should be another dictionary holding the personal details of a customer such as `name`, `address, email id` etc. as shown below.\n",
    "\n",
    "```\n",
    "cust_data = {10011 : {'name': karthik,\n",
    "                      'address': 'C42, MG Complex, Sector-14, Vashi',\n",
    "                      'phone num': '9876543210',\n",
    "                      'govt id': 'C12345Z',\n",
    "                      'amount': 15999}}\n",
    "```\n",
    "\n",
    "Here, `10011` is the account number for Karthik's saving account. It acts as a key to the dictionary containing his details.\n",
    "\n",
    "To add the personal details of another customer to the `cust_data` dictionary, you need to append it with existing data in the dictionary as shown below.\n",
    "\n",
    "```\n",
    "cust_data = {10011 : {'name': karthik,\n",
    "                      'address': 'C42, MG Complex, Sector-14, Vashi',\n",
    "                      'phone num': '9876543210',\n",
    "                      'govt id': 'C12345Z',\n",
    "                      'amount': 15999},\n",
    "            100012 : {'name' : Hrithik,\n",
    "                      'address': B-910, Mandapeshwar Kripa, Borivalli,\n",
    "                      'phone num' : '9876543210',\n",
    "                      'govt id': 'QL44345',\n",
    "                      'amount': 13999}}\n",
    "```\n",
    "\n",
    "Next, you need to create a list holding the personal attributes of a customer, i.e.,\n",
    "\n",
    "`['name', 'address', 'phone num', 'govt id', 'amount']`."
   ]
  },
  {
   "cell_type": "code",
   "execution_count": 1,
   "metadata": {
    "id": "6RL71w3ntzcH"
   },
   "outputs": [],
   "source": [
    "cust_data={}\n",
    "new_user_attributes=['name', 'address', 'phone_num', 'govt_id', 'amount']"
   ]
  },
  {
   "cell_type": "markdown",
   "metadata": {
    "id": "RETr5Tv1JBls"
   },
   "source": [
    "---"
   ]
  },
  {
   "cell_type": "markdown",
   "metadata": {
    "id": "0_OEabQbGQcP"
   },
   "source": [
    "#### 2. Add New User\n",
    "\n",
    "Create a function to add a new user to the `cust_data` dictionary. Name the function as `new_user()`. To do this, follow the steps described below.\n",
    "\n",
    "**Step 1**: Create a random five-digit account number (ranging between 10000 to 99999) for a new customer using the `random` module. Make sure that it doesn't already exist in the `cust_data` dictionary.\n",
    "\n",
    "**Step 2**: Create an empty list and store it in the `new_user_input` variable. This list is used to store the details of the user that is given in the `new_user_attribues` list.\n",
    "\n",
    "**Step 3**: Prompt the user to enter all of their required details one-by-one and add  them to the list `new_user_input`. Make sure that the amount added to the list is an integer data-type.\n",
    "\n",
    "**Step 4**: Create a dictionary for the new user and add it to the `cust_data` dictionary.\n",
    "\n",
    "**Step 5**: Display the following message to the user.\n",
    "\n",
    "  ```\n",
    "  Your details are added successfully.\n",
    "  Your account number is ABCDE\n",
    "  Please don't lose it.\n",
    "  ```\n",
    "  where `ABCDE` is some randomly generated 5-digit account number (ranging between 10000 to 99999) for the new user.\n",
    "\n"
   ]
  },
  {
   "cell_type": "markdown",
   "metadata": {
    "id": "X6kTBtzgQAip"
   },
   "source": [
    "**Note**: Write your code wherever you see the `Write your code here` comment."
   ]
  },
  {
   "cell_type": "code",
   "execution_count": 2,
   "metadata": {
    "colab": {
     "base_uri": "https://localhost:8080/",
     "height": 140
    },
    "id": "mROhcvIy0ML6",
    "outputId": "8a2d5497-3508-4a76-861a-0a05fac0fa3c"
   },
   "outputs": [],
   "source": [
    "# The 'new_user()' function to add a new user to the 'cust_data' dictionary.\n",
    "import random\n",
    "\n",
    "def new_user():\n",
    "    \n",
    "  # Step 1: Create a random five-digit account number and store it in 'acc_num' variable\n",
    "\n",
    "  # Step 2: Create an empty list and store it in the 'new_user_inputs' variable.\n",
    "  # Write your code here\n",
    "\n",
    "     \n",
    "    acc_num=random.randint(10000,99999)\n",
    "    while acc_num in cust_data.keys():\n",
    "        acc_num=random.randint(10000,99999)\n",
    "    \n",
    "    new_user_inputs=[]\n",
    "\n",
    "    name=input(\"Enter your name: \").title()\n",
    "    address=input(\"Enter your address: \").title()\n",
    "    phone_num=input(\"Enter your phone number: \")\n",
    "    govt_id=input(\"Enter your government ID: \")\n",
    "    amount=int(input(\"Enter the amount deposited: \"))\n",
    "\n",
    "    new_user_inputs.extend([name,address,phone_num,govt_id,amount])\n",
    "\n",
    "    new={}\n",
    "    for i in range(5):\n",
    "        new[new_user_attributes[i]]=new_user_inputs[i]\n",
    "\n",
    "    cust_data[acc_num]=new\n",
    "    print()\n",
    "    print('Your details are added successfully.')\n",
    "    print('Your account number is',acc_num)\n",
    "    print(\"Please don't lose it.\")\n",
    "\n",
    "  # Step 3: Prompting the user to enter all of their required details one-by-one and add them to the list new_user_input.\n",
    "\n",
    "  # Step 4: Creating a dictionary for the new user and add it to the cust_data dictionary.\n",
    "\n",
    "  # Step 5: Display the message on successfull account creation to the user.\n",
    "  # Write your code here"
   ]
  },
  {
   "cell_type": "markdown",
   "metadata": {
    "id": "rZsDogK8LaOW"
   },
   "source": [
    "#### 3. Existing User\n",
    "\n",
    "The function to get the account details of an existing user from the `cust_data` dictionary. Name the function as `existing_user()`. To do this, follow the steps described below.\n",
    "\n",
    "**Step 1**: Prompt the user to enter their account number. Keep prompting until they enter their correct account number. For each invalid account number, print the following message to the user.\n",
    "\n",
    "   ```\n",
    "   Not found. Please enter your correct account number:\n",
    "   ```\n",
    "\n",
    "**Step 2**: Once the user has entered the correct account number, print the following message to the user.\n",
    "\n",
    "   ```\n",
    "   Welcome, user_name !\n",
    "   Enter 1 to check your balance.\n",
    "   Enter 2 to withdraw an amount.\n",
    "   Enter 3 to deposit an amount.\n",
    "   ```\n",
    "  where `user_name` is the name of the existing user who entered his account number correctly in the first step.\n",
    "\n",
    "**Step 3**: Prompt the user to enter either `1, 2` or `3`. Keep prompting until the user enters the valid input. For each invalid input, print the following message to the user.\n",
    "\n",
    "   ```\n",
    "   Invalid input!\n",
    "   Enter 1 to check your balance.\n",
    "   Enter 2 to withdraw an amount.\n",
    "   Enter 3 to deposit an amount.\n",
    "   ```\n",
    "\n",
    "**Step 4**: In the case of valid input:\n",
    "\n",
    "   - If the user enters `1`, then display their available account balance.\n",
    "\n",
    "   - Else if the user enters `2`, then prompt the user to enter the withdrawal amount by displaying the `Enter the amount to be withdrawn:` message.\n",
    "\n",
    "     - If the withdrawal amount is greater than the available balance, then display the following message.\n",
    "\n",
    "       ```\n",
    "       Insufficient balance.\n",
    "       Available balance: X\n",
    "       ```\n",
    "\n",
    "        where `X` is the available balance in the user's account.\n",
    "\n",
    "     - Else, subtract the withdrawal amount from the available balance and replace the existing available amount with the updated amount in the `cust_data` dictionary. Also, print the following message.\n",
    "\n",
    "       ```\n",
    "       Withdrawal successful.\n",
    "       Available Balance: Y\n",
    "       ```\n",
    "\n",
    "       where `Y` is the updated amount.\n",
    "\n",
    "   - Else if the user enters `3`, then prompt them to enter the amount to be deposited to their account by displaying the `Enter the amount to be deposited:` message. Add the deposit amount to the available balance and update the new deposit amount in the `cust_data` dictionary. Also, display the following message.\n",
    "\n",
    "     ```\n",
    "     Deposit successful.\n",
    "     Available Balance: Z\n",
    "     ```\n",
    "\n",
    "     where `Z` is the updated deposit amount.\n"
   ]
  },
  {
   "cell_type": "code",
   "execution_count": 3,
   "metadata": {
    "id": "8HV3cY6O9LeE"
   },
   "outputs": [],
   "source": [
    "# The 'existing_user()' function to get the account details of an existing user from the 'cust_data' dictionary.\n",
    "def existing_user():\n",
    "    \n",
    "  # Step 1: Ask the user to enter the existing account number and store it as an integer.\n",
    "    # Write your code here\n",
    "  # Step 2: Print the welcome message to the user.\n",
    "  # Write your code here\n",
    "    \n",
    "    acc_num=int(input(\"Please enter your account number: \"))\n",
    "    while acc_num not in cust_data.keys():\n",
    "        acc_num=input(\"Not found. Please enter your correct account number: \")\n",
    "    name=cust_data[acc_num]['name']\n",
    "    print('Welcome,',name,'!')\n",
    "    print('Enter 1 to check your balance.')\n",
    "    print('Enter 2 to withdraw an amount.')\n",
    "    print('Enter 3 to deposit an amount.')\n",
    "    \n",
    "  # Step 3: Asking the user to select a valid choice.\n",
    "    user_choice = input(\"Enter: \")\n",
    "    while user_choice not in ['1','2','3']:\n",
    "        print('Invalid input!')\n",
    "        print('Enter 1 to check your balance.')\n",
    "        print('Enter 2 to withdraw an amount.')\n",
    "        print('Enter 3 to deposit an amount.')\n",
    "        print()\n",
    "        user_choice = input(\"Enter again: \")\n",
    "    \n",
    "  # Step 4:\n",
    "  # If 'user_choice == 1' then display the account balance i.e. 'cust_data[acc_num]['amount']'\n",
    "    # Write your code here\n",
    "    \n",
    "    if user_choice == '1':\n",
    "        print('Your current account balance is: ',cust_data[acc_num]['amount'])\n",
    "        \n",
    "\n",
    "  # Else if 'user_choice == 2' then subtract the withdrawal amount from the available balance.\n",
    "    elif user_choice == '2':\n",
    "        withdraw=int(input(\"Enter the amount to be withdrawn: \"))\n",
    "        amount=cust_data[acc_num]['amount']\n",
    "        \n",
    "        if amount<withdraw:\n",
    "            print(\"Insufficient balance.\")\n",
    "            print(\"Available balance:\",cust_data[acc_num]['amount'])\n",
    "        else:\n",
    "            update=amount-withdraw\n",
    "            cust_data[acc_num]['amount']==update\n",
    "            print(\"Withdrawal successful.\")\n",
    "            print(\"Available Balance:\",cust_data[acc_num]['amount'])\n",
    "\n",
    "  # Else if 'user_choice == 3' then add the deposit amount to the available balance.\n",
    "    elif user_choice == '3':\n",
    "        deposit=int(input(\"Enter the amount to be deposited: \"))\n",
    "        amount=cust_data[acc_num]['amount']\n",
    "        update=amount+deposit\n",
    "        cust_data[acc_num]['amount']==update\n",
    "        print(\"Deposit successful.\")\n",
    "        print(\"Available Balance:\",cust_data[acc_num]['amount'])\n",
    "        "
   ]
  },
  {
   "cell_type": "markdown",
   "metadata": {
    "id": "NyHSsEwEoEvH"
   },
   "source": [
    "#### 4. Infinite `while` Loop\n",
    "\n",
    "Finally, create an infinite `while` loop to run the application. Inside the loop:\n",
    "\n",
    "  1. Create a list of valid inputs, i.e., `'1', '2', '3'`\n",
    "\n",
    "  2. Prompt the user to enter either `1, 2,` or `3` by displaying the following message.\n",
    "\n",
    "     ```\n",
    "     Welcome to the Horizon Bank!\n",
    "\n",
    "     Enter 1 if you are a new customer.\n",
    "     Enter 2 if you are an existing customer.\n",
    "     Enter 3 to terminate the application.\n",
    "     ```\n",
    "\n",
    "     Keep prompting until the user enters the valid input. For each invalid input, print the following message to the user.\n",
    "\n",
    "     ```\n",
    "     Invalid input!\n",
    "     Enter 1 if you are a new customer.\n",
    "     Enter 2 if you are an existing customer.\n",
    "     Enter 3 to terminate the application.\n",
    "     ```\n",
    "\n",
    "  3. If the user enters `1`, then create a new account for the user and get their personal details. After creating the account, terminate the application with the `Thank you, for banking with us!` message.\n",
    "\n",
    "  4. Else if the user enters 2, then display their account balance, reduce their balance or increase their balance depending on their further input. Afterwards, terminate the application with the `Thank you, for banking with us!` message.\n",
    "\n",
    "  5. Else if the user enters 3, then terminate the application with the `Thank you, for banking with us!` message."
   ]
  },
  {
   "cell_type": "code",
   "execution_count": 11,
   "metadata": {
    "id": "-QAIIkM1qCNr"
   },
   "outputs": [
    {
     "name": "stdout",
     "output_type": "stream",
     "text": [
      "Welcome to the Horizon Bank!\n",
      "\n",
      "Enter 1 if you are a new customer.\n",
      "Enter 2 if you are an existing customer.\n",
      "Enter 3 to terminate the application.\n",
      "Enter: 1\n",
      "Enter your name: siya gupta\n",
      "Enter your address: 45, chanderi, mumbai, maharashtra\n",
      "Enter your phone number: 4578963221\n",
      "Enter your government ID: 78541\n",
      "Enter the amount deposited: 400000\n",
      "\n",
      "Your details are added successfully.\n",
      "Your account number is 79059\n",
      "Please don't lose it.\n",
      "Thank you, for banking with us!\n"
     ]
    }
   ],
   "source": [
    "# Create an infinite while loop to run the application.\n",
    "while True:\n",
    "    print(\"Welcome to the Horizon Bank!\")\n",
    "    print()\n",
    "    print(\"Enter 1 if you are a new customer.\")\n",
    "    print(\"Enter 2 if you are an existing customer.\")\n",
    "    print(\"Enter 3 to terminate the application.\")\n",
    "    \n",
    "    user_choice = input(\"Enter: \")\n",
    "    while user_choice not in ['1','2','3']:\n",
    "        print(\"Invalid input!\")\n",
    "        print(\"Enter 1 if you are a new customer.\\nEnter 2 if you are an existing customer.\\nEnter 3 to terminate the application.\\n\")\n",
    "        user_choice = input(\"Enter again: \")\n",
    "\n",
    "  # If the user enters 1, then call the 'new_user()' function (to create a new account for the user and get their personal details).\n",
    "  # Write your code here\n",
    "    \n",
    "    if user_choice=='1':\n",
    "        new_user()\n",
    "        print(\"Thank you, for banking with us!\")\n",
    "        break\n",
    "  # Else If the user enters 2, then call the 'existing_user()' function.\n",
    "  # Write your code here\n",
    "    elif user_choice==\"2\":\n",
    "        existing_user()\n",
    "        print('Thank you, for banking with us!')\n",
    "        break\n",
    "\n",
    "\n",
    "  # Else If the user enters 3, then terminate the application with the 'Thank you, for banking with us!' message.\n",
    "  # Write your code here\n",
    "    elif user_choice==\"3\":\n",
    "        print('Thank you, for banking with us!')\n",
    "        break\n",
    "\n",
    "\n"
   ]
  },
  {
   "cell_type": "code",
   "execution_count": 12,
   "metadata": {
    "id": "s_pH06A_T39A"
   },
   "outputs": [
    {
     "data": {
      "text/html": [
       "<div>\n",
       "<style scoped>\n",
       "    .dataframe tbody tr th:only-of-type {\n",
       "        vertical-align: middle;\n",
       "    }\n",
       "\n",
       "    .dataframe tbody tr th {\n",
       "        vertical-align: top;\n",
       "    }\n",
       "\n",
       "    .dataframe thead th {\n",
       "        text-align: right;\n",
       "    }\n",
       "</style>\n",
       "<table border=\"1\" class=\"dataframe\">\n",
       "  <thead>\n",
       "    <tr style=\"text-align: right;\">\n",
       "      <th></th>\n",
       "      <th>name</th>\n",
       "      <th>address</th>\n",
       "      <th>phone_num</th>\n",
       "      <th>govt_id</th>\n",
       "      <th>amount</th>\n",
       "    </tr>\n",
       "  </thead>\n",
       "  <tbody>\n",
       "    <tr>\n",
       "      <th>97239</th>\n",
       "      <td>Diya Gandhi</td>\n",
       "      <td>78, Vallabh Nagar, Ahmadabad, Gujarat</td>\n",
       "      <td>1234578960</td>\n",
       "      <td>45821</td>\n",
       "      <td>2000000</td>\n",
       "    </tr>\n",
       "    <tr>\n",
       "      <th>39071</th>\n",
       "      <td>Somya Manghani</td>\n",
       "      <td>174, Vallabh Nagar, Gumanpura ( Near Krishna D...</td>\n",
       "      <td>06378378517</td>\n",
       "      <td>12547</td>\n",
       "      <td>5000000</td>\n",
       "    </tr>\n",
       "    <tr>\n",
       "      <th>79059</th>\n",
       "      <td>Siya Gupta</td>\n",
       "      <td>45, Chanderi, Mumbai, Maharashtra</td>\n",
       "      <td>4578963221</td>\n",
       "      <td>78541</td>\n",
       "      <td>400000</td>\n",
       "    </tr>\n",
       "  </tbody>\n",
       "</table>\n",
       "</div>"
      ],
      "text/plain": [
       "                 name                                            address  \\\n",
       "97239     Diya Gandhi              78, Vallabh Nagar, Ahmadabad, Gujarat   \n",
       "39071  Somya Manghani  174, Vallabh Nagar, Gumanpura ( Near Krishna D...   \n",
       "79059      Siya Gupta                  45, Chanderi, Mumbai, Maharashtra   \n",
       "\n",
       "         phone_num govt_id   amount  \n",
       "97239   1234578960   45821  2000000  \n",
       "39071  06378378517   12547  5000000  \n",
       "79059   4578963221   78541   400000  "
      ]
     },
     "execution_count": 12,
     "metadata": {},
     "output_type": "execute_result"
    }
   ],
   "source": [
    "import pandas as pd\n",
    "record=pd.DataFrame.from_dict(cust_data,orient='index')\n",
    "record"
   ]
  },
  {
   "cell_type": "markdown",
   "metadata": {
    "id": "G3WtFv0Ah3nx"
   },
   "source": [
    "**Hints**:\n",
    "\n",
    "- If the user enters `1` i.e. *New customer*, then invoke the `new_user()` function and break the infinite loop using the `break` keyword after displaying the thank you message (`'Thank you, for banking with us!'`).\n",
    "\n",
    "- Else if the user enters `2` i.e. *Existing customer*, then invoke the `existing_user()` function and break the infinite loop using the `break` keyword after displaying the thank you message (`'Thank you, for banking with us!'`).\n",
    "\n",
    "- Else if the user enters `3` i.e. *Quit application*, then display the thank you message (`‘Thank you, for banking with us!’`) and break the infinite loop using the `break` keyword."
   ]
  },
  {
   "cell_type": "markdown",
   "metadata": {
    "id": "fZV1ZSS5CuTq"
   },
   "source": [
    "---"
   ]
  }
 ],
 "metadata": {
  "colab": {
   "provenance": []
  },
  "kernelspec": {
   "display_name": "Python 3 (ipykernel)",
   "language": "python",
   "name": "python3"
  },
  "language_info": {
   "codemirror_mode": {
    "name": "ipython",
    "version": 3
   },
   "file_extension": ".py",
   "mimetype": "text/x-python",
   "name": "python",
   "nbconvert_exporter": "python",
   "pygments_lexer": "ipython3",
   "version": "3.10.9"
  }
 },
 "nbformat": 4,
 "nbformat_minor": 1
}
